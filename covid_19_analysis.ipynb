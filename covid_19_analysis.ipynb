{
  "nbformat": 4,
  "nbformat_minor": 0,
  "metadata": {
    "colab": {
      "name": "covid_19_analysis.ipynb",
      "provenance": [],
      "authorship_tag": "ABX9TyP+rjSgNbsANaCiBgtySpEj",
      "include_colab_link": true
    },
    "kernelspec": {
      "name": "python3",
      "display_name": "Python 3"
    }
  },
  "cells": [
    {
      "cell_type": "markdown",
      "metadata": {
        "id": "view-in-github",
        "colab_type": "text"
      },
      "source": [
        "<a href=\"https://colab.research.google.com/github/LeonMilosevic/covid_19_analysis/blob/main/covid_19_analysis.ipynb\" target=\"_parent\"><img src=\"https://colab.research.google.com/assets/colab-badge.svg\" alt=\"Open In Colab\"/></a>"
      ]
    },
    {
      "cell_type": "markdown",
      "metadata": {
        "id": "L6-_8QRM3vQx"
      },
      "source": [
        "# **Covid-19 EDA**"
      ]
    },
    {
      "cell_type": "markdown",
      "metadata": {
        "id": "FcyFL3gq3x6u"
      },
      "source": [
        "## Introduction\n",
        "\n",
        "\n",
        "\n",
        "1. We will explore how Asian countries dealt with pandemic compared to Europen countries. \n",
        "2. We will explore specifically how South Korea battled with the pandemic.\n",
        "3. We will create a model to distinguish released and isolated patients. "
      ]
    },
    {
      "cell_type": "markdown",
      "metadata": {
        "id": "LwcIsCcA30cf"
      },
      "source": [
        "### Datasets used:\n",
        "\n",
        "\n",
        "*   https://www.kaggle.com/sudalairajkumar/novel-corona-virus-2019-dataset\n",
        "*   https://www.kaggle.com/kimjihoo/coronavirusdataset/\n",
        "*   https://www.kaggle.com/dumbgeek/countries-dataset-2020\n",
        "*   https://www.kaggle.com/eng0mohamed0nabil/population-by-country-2020"
      ]
    }
  ]
}