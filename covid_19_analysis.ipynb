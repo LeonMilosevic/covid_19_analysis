{
  "nbformat": 4,
  "nbformat_minor": 0,
  "metadata": {
    "colab": {
      "name": "covid_19_analysis.ipynb",
      "provenance": [],
      "authorship_tag": "ABX9TyNIJW+KHTDuiXcs6+lrbpAn",
      "include_colab_link": true
    },
    "kernelspec": {
      "name": "python3",
      "display_name": "Python 3"
    }
  },
  "cells": [
    {
      "cell_type": "markdown",
      "metadata": {
        "id": "view-in-github",
        "colab_type": "text"
      },
      "source": [
        "<a href=\"https://colab.research.google.com/github/LeonMilosevic/covid_19_analysis/blob/main/covid_19_analysis.ipynb\" target=\"_parent\"><img src=\"https://colab.research.google.com/assets/colab-badge.svg\" alt=\"Open In Colab\"/></a>"
      ]
    },
    {
      "cell_type": "markdown",
      "metadata": {
        "id": "L6-_8QRM3vQx"
      },
      "source": [
        "# **Covid-19 EDA**"
      ]
    },
    {
      "cell_type": "markdown",
      "metadata": {
        "id": "FcyFL3gq3x6u"
      },
      "source": [
        "## Introduction\n",
        "\n",
        "\n",
        "\n",
        "1. We will explore how South Korea dealt with pandemic compared to Other countries. \n",
        "2. We will explore specifically how South Korea battled with the pandemic.\n",
        "3. We will create a model to distinguish between released and isolated patients in South Korea. "
      ]
    },
    {
      "cell_type": "markdown",
      "metadata": {
        "id": "LwcIsCcA30cf"
      },
      "source": [
        "### Datasets used:\n",
        "\n",
        "\n",
        "*   https://www.kaggle.com/sudalairajkumar/novel-corona-virus-2019-dataset\n",
        "*   https://www.kaggle.com/kimjihoo/coronavirusdataset/\n",
        "*   https://www.kaggle.com/dumbgeek/countries-dataset-2020\n",
        "*   https://www.kaggle.com/eng0mohamed0nabil/population-by-country-2020"
      ]
    },
    {
      "cell_type": "code",
      "metadata": {
        "id": "Gf7qwVXvDtvI"
      },
      "source": [
        "def get_max_value(series):\n",
        "  # reindex the series\n",
        "  reseted = series.reset_index(drop=True)\n",
        "\n",
        "  # get max id and value\n",
        "  maxid = reseted.idxmax()\n",
        "  max = reseted.max()\n",
        "  # if maxid is not the last value and the max value is not equal to the last value then loop over the remaining values and add them to max variable\n",
        "  if(maxid != len(reseted) -1 and reseted[maxid] != reseted.iloc[-1]):\n",
        "    # adding + 1 to the id since we want to skip maxid\n",
        "    for i, val in enumerate(reseted[maxid + 1:], start=maxid + 1):\n",
        "      max += val\n",
        "      \n",
        "  return max"
      ],
      "execution_count": 37,
      "outputs": []
    },
    {
      "cell_type": "code",
      "metadata": {
        "id": "4-3uu6Ml5xzE"
      },
      "source": [
        "import pandas as pd\n",
        "\n",
        "# all countries cases\n",
        "countries_data = pd.read_csv('./covid_19_data.csv')\n",
        "\n",
        "# healthcare of countries\n",
        "countries_healthcare = pd.read_csv('./healthcare.csv')"
      ],
      "execution_count": 2,
      "outputs": []
    },
    {
      "cell_type": "markdown",
      "metadata": {
        "id": "-o8Bn8I-6qtk"
      },
      "source": [
        "South Korea has one of the best health care index in the world, we will compare it with countries that have similar healthcare, +-5"
      ]
    },
    {
      "cell_type": "code",
      "metadata": {
        "id": "nx98bSVf6eqh"
      },
      "source": [
        "south_korea_healthcare = countries_healthcare[countries_healthcare['Country'] == 'South Korea']['Health Care Index'][1]\n",
        "\n",
        "countries_strong_healthcare = countries_healthcare.loc[\n",
        "                                                       (countries_healthcare['Health Care Index'] >= south_korea_healthcare - 5) & \n",
        "                                                       (countries_healthcare['Health Care Index'] <= south_korea_healthcare + 5)\n",
        "                                                       ]"
      ],
      "execution_count": 3,
      "outputs": []
    },
    {
      "cell_type": "markdown",
      "metadata": {
        "id": "vLQ1mJEw9nCb"
      },
      "source": [
        ""
      ]
    },
    {
      "cell_type": "code",
      "metadata": {
        "colab": {
          "base_uri": "https://localhost:8080/",
          "height": 424
        },
        "id": "67R9kIFb77Km",
        "outputId": "849d8d28-07e8-4343-d4a7-980dc9b7f996"
      },
      "source": [
        "countries_cases_healthcare = pd.DataFrame(columns=countries_data.columns)\n",
        "\n",
        "# for i in range(len(countries_strong_healthcare.Country)):\n",
        "#   country = countries_strong_healthcare.Country[i]\n",
        "#   country_cases = countries_data[countries_data['Country/Region'] == country]\n",
        "\n",
        "#   print(country_cases)\n",
        "#   # countries_cases_healthcare.loc[i] = country_cases\n",
        "\n",
        "countries_data[countries_data['Country/Region'] == 'Denmark'].reset_index(drop=True)"
      ],
      "execution_count": 46,
      "outputs": [
        {
          "output_type": "execute_result",
          "data": {
            "text/html": [
              "<div>\n",
              "<style scoped>\n",
              "    .dataframe tbody tr th:only-of-type {\n",
              "        vertical-align: middle;\n",
              "    }\n",
              "\n",
              "    .dataframe tbody tr th {\n",
              "        vertical-align: top;\n",
              "    }\n",
              "\n",
              "    .dataframe thead th {\n",
              "        text-align: right;\n",
              "    }\n",
              "</style>\n",
              "<table border=\"1\" class=\"dataframe\">\n",
              "  <thead>\n",
              "    <tr style=\"text-align: right;\">\n",
              "      <th></th>\n",
              "      <th>SNo</th>\n",
              "      <th>ObservationDate</th>\n",
              "      <th>Province/State</th>\n",
              "      <th>Country/Region</th>\n",
              "      <th>Last Update</th>\n",
              "      <th>Confirmed</th>\n",
              "      <th>Deaths</th>\n",
              "      <th>Recovered</th>\n",
              "    </tr>\n",
              "  </thead>\n",
              "  <tbody>\n",
              "    <tr>\n",
              "      <th>0</th>\n",
              "      <td>2563</td>\n",
              "      <td>02/27/2020</td>\n",
              "      <td>NaN</td>\n",
              "      <td>Denmark</td>\n",
              "      <td>2020-02-27T16:23:03</td>\n",
              "      <td>1.0</td>\n",
              "      <td>0.0</td>\n",
              "      <td>0.0</td>\n",
              "    </tr>\n",
              "    <tr>\n",
              "      <th>1</th>\n",
              "      <td>2673</td>\n",
              "      <td>02/28/2020</td>\n",
              "      <td>NaN</td>\n",
              "      <td>Denmark</td>\n",
              "      <td>2020-02-27T16:23:03</td>\n",
              "      <td>1.0</td>\n",
              "      <td>0.0</td>\n",
              "      <td>0.0</td>\n",
              "    </tr>\n",
              "    <tr>\n",
              "      <th>2</th>\n",
              "      <td>2770</td>\n",
              "      <td>02/29/2020</td>\n",
              "      <td>NaN</td>\n",
              "      <td>Denmark</td>\n",
              "      <td>2020-02-29T18:03:05</td>\n",
              "      <td>3.0</td>\n",
              "      <td>0.0</td>\n",
              "      <td>0.0</td>\n",
              "    </tr>\n",
              "    <tr>\n",
              "      <th>3</th>\n",
              "      <td>2889</td>\n",
              "      <td>03/01/2020</td>\n",
              "      <td>NaN</td>\n",
              "      <td>Denmark</td>\n",
              "      <td>2020-03-01T23:33:03</td>\n",
              "      <td>4.0</td>\n",
              "      <td>0.0</td>\n",
              "      <td>0.0</td>\n",
              "    </tr>\n",
              "    <tr>\n",
              "      <th>4</th>\n",
              "      <td>3019</td>\n",
              "      <td>03/02/2020</td>\n",
              "      <td>NaN</td>\n",
              "      <td>Denmark</td>\n",
              "      <td>2020-03-01T23:33:03</td>\n",
              "      <td>4.0</td>\n",
              "      <td>0.0</td>\n",
              "      <td>0.0</td>\n",
              "    </tr>\n",
              "    <tr>\n",
              "      <th>...</th>\n",
              "      <td>...</td>\n",
              "      <td>...</td>\n",
              "      <td>...</td>\n",
              "      <td>...</td>\n",
              "      <td>...</td>\n",
              "      <td>...</td>\n",
              "      <td>...</td>\n",
              "      <td>...</td>\n",
              "    </tr>\n",
              "    <tr>\n",
              "      <th>813</th>\n",
              "      <td>171271</td>\n",
              "      <td>12/05/2020</td>\n",
              "      <td>Faroe Islands</td>\n",
              "      <td>Denmark</td>\n",
              "      <td>2020-12-06 05:26:18</td>\n",
              "      <td>506.0</td>\n",
              "      <td>0.0</td>\n",
              "      <td>500.0</td>\n",
              "    </tr>\n",
              "    <tr>\n",
              "      <th>814</th>\n",
              "      <td>171296</td>\n",
              "      <td>12/05/2020</td>\n",
              "      <td>Greenland</td>\n",
              "      <td>Denmark</td>\n",
              "      <td>2020-12-06 05:26:18</td>\n",
              "      <td>18.0</td>\n",
              "      <td>0.0</td>\n",
              "      <td>18.0</td>\n",
              "    </tr>\n",
              "    <tr>\n",
              "      <th>815</th>\n",
              "      <td>171760</td>\n",
              "      <td>12/06/2020</td>\n",
              "      <td>NaN</td>\n",
              "      <td>Denmark</td>\n",
              "      <td>2020-12-07 05:26:14</td>\n",
              "      <td>90603.0</td>\n",
              "      <td>885.0</td>\n",
              "      <td>70876.0</td>\n",
              "    </tr>\n",
              "    <tr>\n",
              "      <th>816</th>\n",
              "      <td>172031</td>\n",
              "      <td>12/06/2020</td>\n",
              "      <td>Faroe Islands</td>\n",
              "      <td>Denmark</td>\n",
              "      <td>2020-12-07 05:26:14</td>\n",
              "      <td>510.0</td>\n",
              "      <td>0.0</td>\n",
              "      <td>501.0</td>\n",
              "    </tr>\n",
              "    <tr>\n",
              "      <th>817</th>\n",
              "      <td>172056</td>\n",
              "      <td>12/06/2020</td>\n",
              "      <td>Greenland</td>\n",
              "      <td>Denmark</td>\n",
              "      <td>2020-12-07 05:26:14</td>\n",
              "      <td>18.0</td>\n",
              "      <td>0.0</td>\n",
              "      <td>18.0</td>\n",
              "    </tr>\n",
              "  </tbody>\n",
              "</table>\n",
              "<p>818 rows × 8 columns</p>\n",
              "</div>"
            ],
            "text/plain": [
              "        SNo ObservationDate Province/State  ... Confirmed Deaths  Recovered\n",
              "0      2563      02/27/2020            NaN  ...       1.0    0.0        0.0\n",
              "1      2673      02/28/2020            NaN  ...       1.0    0.0        0.0\n",
              "2      2770      02/29/2020            NaN  ...       3.0    0.0        0.0\n",
              "3      2889      03/01/2020            NaN  ...       4.0    0.0        0.0\n",
              "4      3019      03/02/2020            NaN  ...       4.0    0.0        0.0\n",
              "..      ...             ...            ...  ...       ...    ...        ...\n",
              "813  171271      12/05/2020  Faroe Islands  ...     506.0    0.0      500.0\n",
              "814  171296      12/05/2020      Greenland  ...      18.0    0.0       18.0\n",
              "815  171760      12/06/2020            NaN  ...   90603.0  885.0    70876.0\n",
              "816  172031      12/06/2020  Faroe Islands  ...     510.0    0.0      501.0\n",
              "817  172056      12/06/2020      Greenland  ...      18.0    0.0       18.0\n",
              "\n",
              "[818 rows x 8 columns]"
            ]
          },
          "metadata": {
            "tags": []
          },
          "execution_count": 46
        }
      ]
    }
  ]
}